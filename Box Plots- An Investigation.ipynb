{
 "cells": [
  {
   "cell_type": "markdown",
   "metadata": {},
   "source": [
    "# Fundamentals of Data Analysis\n",
    "# Box Plots"
   ]
  },
  {
   "cell_type": "markdown",
   "metadata": {},
   "source": [
    "## The begining of Box and Whisker Plots\n",
    "\n",
    "John Tukey was a chemist, information scientist, statistician and data analysist amongst other professions. Whilst mainly focusing on pure mathematics, the second world war saw John focus his efforts on data analysis methods at the fire Control reseach Office to support the war effort. Between 1955-1957 he was the Vice President of the American Statistical Techniques Research Group at Princeton and between 1960-1961, the President of the Institute of Matematical Statistics [1]. "
   ]
  },
  {
   "cell_type": "code",
   "execution_count": null,
   "metadata": {},
   "outputs": [],
   "source": []
  }
 ],
 "metadata": {
  "kernelspec": {
   "display_name": "Python 3",
   "language": "python",
   "name": "python3"
  },
  "language_info": {
   "codemirror_mode": {
    "name": "ipython",
    "version": 3
   },
   "file_extension": ".py",
   "mimetype": "text/x-python",
   "name": "python",
   "nbconvert_exporter": "python",
   "pygments_lexer": "ipython3",
   "version": "3.6.6"
  }
 },
 "nbformat": 4,
 "nbformat_minor": 2
}
