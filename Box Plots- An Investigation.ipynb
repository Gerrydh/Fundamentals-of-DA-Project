{
 "cells": [
  {
   "cell_type": "markdown",
   "metadata": {},
   "source": [
    "# Fundamentals of Data Analysis Project\n"
   ]
  },
  {
   "cell_type": "markdown",
   "metadata": {},
   "source": [
    "## John Tukey\n",
    "\n",
    "\n",
    "John Tukey was a chemist, information scientist, statistician and data analysist amongst other professions. Whilst mainly focusing on pure mathematics, the second world war saw John focus his efforts on data analysis methods at the fire Control Reseach Office to support the war effort. John led and was a member of many groups and committe throughoout his career including,the American Statistical Techniques Research Group at Princeton, the Institute of Matematical Statistics, the President's Science Advisory Committee and the Presidents Commission on Federal Statistics to mention just a few [1]. \n",
    "\n",
    "![Image of John Tukey](John2.PNG)"
   ]
  },
  {
   "cell_type": "markdown",
   "metadata": {},
   "source": [
    "## The origins of the Box Plot\n",
    "\n",
    "John developed the box and whiskers plot as part of this toolkit for exploratiry data analysis in 1970, but it did not become widely known until it was eventually published in 1977. Boxplots are useful for comparing distributions across groups. 40 years after their development, boxplots are still one of the most frequently used statistical graphs. The basic graphic form of the boxplot, the range-bar, was created in the 1950's, and Tukey expanded on this by including summary statistics that worked for a wide range of data and to connect those to the visual components of the range bar. What we now call the boxplot, Tukey referred to as a schematic plot, a box and whiskers plot [2]."
   ]
  },
  {
   "cell_type": "markdown",
   "metadata": {},
   "source": [
    "## What is a Box Plot?\n",
    "\n",
    "When preparing a report or analysis of a dataset, the old cliché \"A picture is worth a thousand words\" should be at the forefront in the mind of the author. When analysing data, you may want to study the characteristics of a single group of numbers, observations, or measurements. You might want to interogate extreme values or study the the distribution or pattern of the data's values, there are many plots available to assist and one such plot is the box plot [9]. \n",
    "\n",
    "A box plot shows a visual representation of the median and quartiles (lower and upper) of a dataset [3]. It is a standarised way of displaying the distribution of data based on the five number summary:\n",
    "\n",
    "1. Minimum value\n",
    "1. First quartile value\n",
    "1. Median value\n",
    "1. Third quartile value\n",
    "1. Maximum value\n",
    "\n",
    "The box plot splits the data set into quartiles, the body of the box plotconsists of a *box*, which goes from the first quartile to the third quartile. If the dataset consists of one or more *outliers*, they are plotted seperately as points on the chart, these are referred to as the whiskers of the plot [8]."
   ]
  },
  {
   "cell_type": "markdown",
   "metadata": {},
   "source": [
    "### The statistical values and terms explained:\n",
    "\n",
    "The minimum and maximum values are staright forward- they are the smallest and the largest values of the dataset and make up the whiskers of the box plot and are used to demonstrate the range of the data [4]. \n",
    "\n",
    "The Median or middle quartile represents the mid-point of the dataset and is displayed by the line that devides the box into two equal parts. Half of the values are greater than or equal to this value and the other half are less.\n",
    "\n",
    "Quartiles divide the dataset into quarters, with equal quarters, with each quarter containg 1/4 of the data values. Quartiles are like additional *medians* of the upper and lower quartiles. It is important to note that a quartile is not a range of values and the data can be described as being \"above\" or \"below\" the first quartile but not \"in\" the first quartile.\n",
    "\n",
    "The first quartile is the median of the lower half of the data. 1/4 of the values lies below the first quartile and 3/4's above it.\n",
    "\n",
    "The second quartile is the median of the entire dataset, with 1/2 of the values below it and the other 1/2 above.\n",
    "\n",
    "The third quartile is the median of the upper half of the dataset, 3/4's of the values lie below it and 1/4 are above this quartile, the image below highlights this [6].\n",
    "\n",
    "To calculate the median of quartile if there is an even number of values in the quartile (as is the case in the example below) add the two middle values and devide by two e.g. 26 + 27 = 53 / 2 = 26.5.\n",
    "\n",
    "![https://mathbitsnotebook.com/Algebra1/StatisticsData/STboxplot.html](Quartiles.PNG)\n",
    "\n",
    "The Interquartile Range (IQR) is the difference or *distance* between the third and the first quartile, it is also refered to the midspread or the middle fifty. It is considered a more stable statistic than the range of the dataset. In the example above the IQR = 51 - 26.5 = 24.5 [6]. The IQR is just the width if the box in the box and whisker plot. It describes to us how spread out the *middle* values are and is useful for highlighting when some of the values are \"too far\" from the central value [7].\n",
    "\n",
    "The upper and lower whiskers represent values that fall outside the middle 50%. Whiskers often cover a wider range of scores than the middle quartile groups [5]. If a data value is very far away from the quartiles, it is sometimes designated an outlier. Instead of being shown using the whiskers, outliers are usually shown separately plotted points [10]. Outliers should be given some attention. Often they contain valuable information about the process under investigation or the data gathering and recording process. We should try to understand the outliers before deciding to leave them in or eliminating them from the dataset [11]."
   ]
  },
  {
   "cell_type": "code",
   "execution_count": 35,
   "metadata": {},
   "outputs": [],
   "source": [
    "import matplotlib.pyplot as plt\n",
    "import numpy as np\n",
    "import seaborn as sns\n",
    "import pandas as pd\n",
    "from matplotlib.pyplot import figure\n",
    "from pylab import rcParams\n",
    "%matplotlib inline"
   ]
  },
  {
   "cell_type": "markdown",
   "metadata": {},
   "source": [
    "## The Dataset\n",
    "\n",
    "Whilst searching for an interesting dataset to plot, I can across the Powerball (Lottery) numbers thatr were drawn over a nine year period. The dataset contained the results of all draws from January 2010 to November of this year- 917 draws in total. There were 6 columns representing the final result of the draw, with the numbers rearranged from smallest number (firstball) to largest number (fifthball) and finally the bonus ball (sixthball). Initially I did not think that the dataset would reveal anything too interesting and I used this just to test reading in a file and generating a plot, but what it did reveal I found to be quite interesting."
   ]
  },
  {
   "cell_type": "code",
   "execution_count": 16,
   "metadata": {},
   "outputs": [],
   "source": [
    "Lottery = pd.read_csv(\"Lottery.csv\") # The csv file from https://data.ny.gov/api/views/d6yy-54nr/rows.csv?accessType=DOWNLOAD "
   ]
  },
  {
   "cell_type": "code",
   "execution_count": 60,
   "metadata": {},
   "outputs": [],
   "source": [
    "plt.rcParams['figure.figsize'] = (15,10)"
   ]
  },
  {
   "cell_type": "code",
   "execution_count": 61,
   "metadata": {
    "scrolled": false
   },
   "outputs": [
    {
     "data": {
      "image/png": "[encoded data removed]",
      "text/plain": [
       "<Figure size 1080x720 with 1 Axes>"
      ]
     },
     "metadata": {
      "needs_background": "light"
     },
     "output_type": "display_data"
    }
   ],
   "source": [
    "plt.boxplot([Lottery.firstball, Lottery.secondball, Lottery.thirdball, Lottery.fourthball, Lottery.fifthball, Lottery.sixthball], showmeans=True, sym='r+')\n",
    "plt.title('Lottery Draws- Jan 2010 - Nov 2018')\n",
    "plt.xlabel('Sequence Drawn')\n",
    "plt.ylabel('Ball Number')\n",
    "plt.show()"
   ]
  },
  {
   "cell_type": "code",
   "execution_count": null,
   "metadata": {
    "collapsed": true
   },
   "outputs": [],
   "source": [
    "df.describe()"
   ]
  },
  {
   "cell_type": "markdown",
   "metadata": {},
   "source": [
    "## The Boxplot Reviewed\n",
    "\n",
    "The boxplot look as I would expect them too given the random nature of the draw and the fact that the numbers in the dataset have been rearragned from smallest to largest despite when they were selected during the draw. The first ball median is nine and then goes up roughly by 10 for each subsequent result position. The first ball position has a very short distribution as displayed by the short lower extreme whisker. What was interesting was the number of outliers in the plot showing that on a number of occassions the lowest number in a particular draw was over 34, even as high as 50! Again, the outliers show me that on one occassion, the second lowest number in a draw was 60, the boxplot for this column is starting to look more *normal* or evenly spread, the whisker at the lower extreme is shorter than the whisker for the upper extreme. Column 3 is the most even distributed boxplot, with 50% of the numbers drawn below 32, and 50% between 33 and 64. The upper extreme whisker for the fifth ball is quite short indicating that 25% of the number where between 59 and 69."
   ]
  },
  {
   "cell_type": "markdown",
   "metadata": {},
   "source": [
    "## Other Plots from matplotlib"
   ]
  },
  {
   "cell_type": "code",
   "execution_count": null,
   "metadata": {
    "collapsed": true
   },
   "outputs": [],
   "source": []
  }
 ],
 "metadata": {
  "kernelspec": {
   "display_name": "Python 3",
   "language": "python",
   "name": "python3"
  },
  "language_info": {
   "codemirror_mode": {
    "name": "ipython",
    "version": 3
   },
   "file_extension": ".py",
   "mimetype": "text/x-python",
   "name": "python",
   "nbconvert_exporter": "python",
   "pygments_lexer": "ipython3",
   "version": "3.6.6"
  }
 },
 "nbformat": 4,
 "nbformat_minor": 2
}
